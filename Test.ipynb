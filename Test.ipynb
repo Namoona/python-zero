{
 "cells": [
  {
   "cell_type": "markdown",
   "metadata": {},
   "source": [
    "### Test"
   ]
  },
  {
   "cell_type": "code",
   "execution_count": 34,
   "metadata": {},
   "outputs": [],
   "source": [
    "import pandas as pd\n",
    "import numpy as np"
   ]
  },
  {
   "cell_type": "code",
   "execution_count": 35,
   "metadata": {},
   "outputs": [],
   "source": [
    "NUMBER_RECORDS = 100\n",
    "NUMBER_ENCOUNTERS = 78\n",
    "NUMBER_PATIENTS = 10"
   ]
  },
  {
   "cell_type": "code",
   "execution_count": 36,
   "metadata": {},
   "outputs": [],
   "source": [
    "dx_code_list = [\"dx_code_\" + str(x) for x in np.arange(1,10)]"
   ]
  },
  {
   "cell_type": "code",
   "execution_count": 37,
   "metadata": {},
   "outputs": [
    {
     "name": "stdout",
     "output_type": "stream",
     "text": [
      "['dx_code_1', 'dx_code_2', 'dx_code_3', 'dx_code_4', 'dx_code_5', 'dx_code_6', 'dx_code_7', 'dx_code_8', 'dx_code_9']\n"
     ]
    }
   ],
   "source": [
    "print(dx_code_list)"
   ]
  },
  {
   "cell_type": "code",
   "execution_count": 38,
   "metadata": {},
   "outputs": [],
   "source": [
    "procedure_code_list = [\"procedure_code_\" + str(x) for x in np.arange(1,7)]"
   ]
  },
  {
   "cell_type": "code",
   "execution_count": 39,
   "metadata": {},
   "outputs": [
    {
     "name": "stdout",
     "output_type": "stream",
     "text": [
      "['procedure_code_1', 'procedure_code_2', 'procedure_code_3', 'procedure_code_4', 'procedure_code_5', 'procedure_code_6']\n"
     ]
    }
   ],
   "source": [
    "print(procedure_code_list)"
   ]
  },
  {
   "cell_type": "code",
   "execution_count": 40,
   "metadata": {},
   "outputs": [],
   "source": [
    "medication_code_list = [\"medication_code_\" + str(x) for x in np.arange(1,10)]"
   ]
  },
  {
   "cell_type": "code",
   "execution_count": 41,
   "metadata": {},
   "outputs": [
    {
     "name": "stdout",
     "output_type": "stream",
     "text": [
      "['medication_code_1', 'medication_code_2', 'medication_code_3', 'medication_code_4', 'medication_code_5', 'medication_code_6', 'medication_code_7', 'medication_code_8', 'medication_code_9']\n"
     ]
    }
   ],
   "source": [
    "print(medication_code_list)"
   ]
  },
  {
   "cell_type": "code",
   "execution_count": 42,
   "metadata": {},
   "outputs": [],
   "source": [
    "lab_code_list = [\"lab_code_\" + str(x) for x in np.arange(0,10)]"
   ]
  },
  {
   "cell_type": "code",
   "execution_count": 43,
   "metadata": {},
   "outputs": [
    {
     "name": "stdout",
     "output_type": "stream",
     "text": [
      "['lab_code_0', 'lab_code_1', 'lab_code_2', 'lab_code_3', 'lab_code_4', 'lab_code_5', 'lab_code_6', 'lab_code_7', 'lab_code_8', 'lab_code_9']\n"
     ]
    }
   ],
   "source": [
    "print(lab_code_list)"
   ]
  },
  {
   "cell_type": "code",
   "execution_count": 44,
   "metadata": {},
   "outputs": [],
   "source": [
    "patient_id_list = [\"udacity_patient_id_\" + str(x) for x in np.arange(1,11)]"
   ]
  },
  {
   "cell_type": "code",
   "execution_count": 45,
   "metadata": {},
   "outputs": [
    {
     "name": "stdout",
     "output_type": "stream",
     "text": [
      "['udacity_patient_id_1', 'udacity_patient_id_2', 'udacity_patient_id_3', 'udacity_patient_id_4', 'udacity_patient_id_5', 'udacity_patient_id_6', 'udacity_patient_id_7', 'udacity_patient_id_8', 'udacity_patient_id_9', 'udacity_patient_id_10']\n"
     ]
    }
   ],
   "source": [
    "print(patient_id_list)"
   ]
  },
  {
   "cell_type": "code",
   "execution_count": 52,
   "metadata": {},
   "outputs": [
    {
     "data": {
      "text/plain": [
       "array([[0.4373483 , 0.20515894, 0.2368187 , 0.12067407],\n",
       "       [0.04794689, 0.77051375, 0.07325614, 0.10828322],\n",
       "       [0.17258108, 0.46494721, 0.02730019, 0.33517152],\n",
       "       [0.00086982, 0.71628148, 0.08289451, 0.1999542 ]])"
      ]
     },
     "execution_count": 52,
     "metadata": {},
     "output_type": "execute_result"
    }
   ],
   "source": [
    "np.random.dirichlet((1,1,1,1), 4)"
   ]
  },
  {
   "cell_type": "code",
   "execution_count": 53,
   "metadata": {},
   "outputs": [],
   "source": [
    "def random_value_selection(field_value_list, number_records):\n",
    "    #build normal probability distribution \n",
    "    field_prob_dist = np.random.dirichlet(np.ones(len(field_value_list)), size=1)[0] \n",
    "    #build random value list for field\n",
    "    field_random_values = np.random.choice(field_value_list, number_records, p=field_prob_dist)\n",
    "    return field_random_values"
   ]
  },
  {
   "cell_type": "code",
   "execution_count": 54,
   "metadata": {},
   "outputs": [
    {
     "name": "stdout",
     "output_type": "stream",
     "text": [
      "Dataset is not at the line level\n"
     ]
    }
   ],
   "source": [
    "try:\n",
    "    assert len(ehr_level_df) > ehr_level_df['ENCOUNTER_ID'].nunique() \n",
    "    print(\"Dataset could be at the line level\")\n",
    "except:\n",
    "    print(\"Dataset is not at the line level\")"
   ]
  },
  {
   "cell_type": "code",
   "execution_count": 57,
   "metadata": {},
   "outputs": [
    {
     "name": "stdout",
     "output_type": "stream",
     "text": [
      "correct\n"
     ]
    }
   ],
   "source": [
    "try:\n",
    "    assert 10>5\n",
    "    print(\"correct\")\n",
    "except:\n",
    "    print(\"wrong\")"
   ]
  },
  {
   "cell_type": "code",
   "execution_count": null,
   "metadata": {},
   "outputs": [],
   "source": []
  }
 ],
 "metadata": {
  "kernelspec": {
   "display_name": "Python 3",
   "language": "python",
   "name": "python3"
  },
  "language_info": {
   "codemirror_mode": {
    "name": "ipython",
    "version": 3
   },
   "file_extension": ".py",
   "mimetype": "text/x-python",
   "name": "python",
   "nbconvert_exporter": "python",
   "pygments_lexer": "ipython3",
   "version": "3.6.5"
  }
 },
 "nbformat": 4,
 "nbformat_minor": 2
}
