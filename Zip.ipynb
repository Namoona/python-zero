{
 "cells": [
  {
   "cell_type": "code",
   "execution_count": 6,
   "metadata": {},
   "outputs": [
    {
     "name": "stdout",
     "output_type": "stream",
     "text": [
      "<zip object at 0x000001932A3CB208>\n"
     ]
    }
   ],
   "source": [
    "a_couple_of_letters = [\"a\", \"b\", \"c\", \"d\", \"e\", \"f\"]\n",
    "some_numbers = [5, 3, 7, 9, 11, 2]\n",
    "\n",
    "print(zip(a_couple_of_letters, some_numbers))"
   ]
  },
  {
   "cell_type": "code",
   "execution_count": 7,
   "metadata": {},
   "outputs": [
    {
     "name": "stdout",
     "output_type": "stream",
     "text": [
      "('a', 5)\n",
      "('b', 3)\n",
      "('c', 7)\n",
      "('d', 9)\n",
      "('e', 11)\n",
      "('f', 2)\n"
     ]
    }
   ],
   "source": [
    "for t in zip(a_couple_of_letters, some_numbers):\n",
    "    print(t)"
   ]
  },
  {
   "cell_type": "code",
   "execution_count": 9,
   "metadata": {},
   "outputs": [
    {
     "name": "stdout",
     "output_type": "stream",
     "text": [
      "('Kathmandu', 1021.2, 20, 14)\n",
      "('Lalitpur', 1019.9, 19, 14)\n",
      "('Bhaktapur', 1023.7, 21, 14)\n",
      "('Nuwakot', 1023.1, -22, 13)\n",
      "('Dhading', 1027.7, -20, 12)\n"
     ]
    }
   ],
   "source": [
    "location = [\"Kathmandu\", \"Lalitpur\", \n",
    "            \"Bhaktapur\", \"Nuwakot\", \n",
    "            \"Dhading\"]\n",
    "air_pressure = [1021.2, 1019.9, 1023.7, 1023.1, 1027.7]\n",
    "temperatures = [20, 19, 21, -22, -20]\n",
    "altitude = [14, 14, 14, 13, 12]\n",
    "                \n",
    "for t in zip(location, air_pressure, temperatures, altitude):\n",
    "    print(t)"
   ]
  },
  {
   "cell_type": "markdown",
   "metadata": {},
   "source": [
    "### Calling Zip with no arguments\n",
    "#### It will not print"
   ]
  },
  {
   "cell_type": "code",
   "execution_count": 10,
   "metadata": {},
   "outputs": [],
   "source": [
    "for i in zip():\n",
    "    print(\"This will not be printed\")"
   ]
  },
  {
   "cell_type": "markdown",
   "metadata": {},
   "source": [
    "### Calling Zip with one arguments "
   ]
  },
  {
   "cell_type": "code",
   "execution_count": 11,
   "metadata": {},
   "outputs": [
    {
     "name": "stdout",
     "output_type": "stream",
     "text": [
      "('P',)\n",
      "('y',)\n",
      "('t',)\n",
      "('h',)\n",
      "('o',)\n",
      "('n',)\n"
     ]
    }
   ],
   "source": [
    "s = \"Python\"\n",
    "for t in zip(s):\n",
    "    print(t)"
   ]
  },
  {
   "cell_type": "markdown",
   "metadata": {},
   "source": [
    "### Parameters with different arguments"
   ]
  },
  {
   "cell_type": "code",
   "execution_count": 13,
   "metadata": {},
   "outputs": [
    {
     "name": "stdout",
     "output_type": "stream",
     "text": [
      "BMW green\n",
      "Alfa Romea red\n"
     ]
    }
   ],
   "source": [
    "colors = [\"green\", \"red\", \"blue\"]\n",
    "cars = [\"BMW\", \"Alfa Romea\"]\n",
    "\n",
    "for car, color in zip(cars, colors):\n",
    "    print(car, color)"
   ]
  },
  {
   "cell_type": "markdown",
   "metadata": {},
   "source": [
    "### Advanced Usages of zip"
   ]
  },
  {
   "cell_type": "code",
   "execution_count": 14,
   "metadata": {},
   "outputs": [],
   "source": [
    "cities_and_population = [(\"Zurich\", 415367),\n",
    "                         (\"Geneva\", 201818),\n",
    "                         (\"Basel\", 177654),\n",
    "                         (\"Lausanne\", 139111),\n",
    "                         (\"Bern\", 133883),\n",
    "                         (\"Winterthur\", 111851)]"
   ]
  },
  {
   "cell_type": "code",
   "execution_count": 17,
   "metadata": {},
   "outputs": [
    {
     "name": "stdout",
     "output_type": "stream",
     "text": [
      "('Zurich', 'Geneva', 'Basel', 'Lausanne', 'Bern', 'Winterthur')\n",
      "(415367, 201818, 177654, 139111, 133883, 111851)\n"
     ]
    }
   ],
   "source": [
    "cities, populations = list(zip(*cities_and_population))\n",
    "print(cities)\n",
    "print(populations)"
   ]
  },
  {
   "cell_type": "code",
   "execution_count": 24,
   "metadata": {},
   "outputs": [
    {
     "data": {
      "text/plain": [
       "<matplotlib.axes._subplots.AxesSubplot at 0x1932d6498d0>"
      ]
     },
     "execution_count": 24,
     "metadata": {},
     "output_type": "execute_result"
    },
    {
     "data": {
      "image/png": "[encoded data removed]",
      "text/plain": [
       "<Figure size 432x288 with 1 Axes>"
      ]
     },
     "metadata": {},
     "output_type": "display_data"
    }
   ],
   "source": [
    "import pandas as pd\n",
    "import matplotlib as plt\n",
    "%matplotlib inline\n",
    "\n",
    "cities_and_population = [(\"Zurich\", 415367),\n",
    "                         (\"Geneva\", 201818),\n",
    "                         (\"Basel\", 177654),\n",
    "                         (\"Lausanne\", 139111),\n",
    "                         (\"Bern\", 133883),\n",
    "                         (\"Winterthur\", 111851)]\n",
    "\n",
    "cities, populations = list(zip(*cities_and_population))\n",
    "s = pd.Series(populations, index=cities)\n",
    "\n",
    "s.plot(kind=\"bar\")"
   ]
  },
  {
   "cell_type": "code",
   "execution_count": null,
   "metadata": {},
   "outputs": [],
   "source": []
  }
 ],
 "metadata": {
  "kernelspec": {
   "display_name": "Python 3",
   "language": "python",
   "name": "python3"
  },
  "language_info": {
   "codemirror_mode": {
    "name": "ipython",
    "version": 3
   },
   "file_extension": ".py",
   "mimetype": "text/x-python",
   "name": "python",
   "nbconvert_exporter": "python",
   "pygments_lexer": "ipython3",
   "version": "3.6.5"
  }
 },
 "nbformat": 4,
 "nbformat_minor": 2
}
